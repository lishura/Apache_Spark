{
  "nbformat": 4,
  "nbformat_minor": 0,
  "metadata": {
    "colab": {
      "provenance": [],
      "authorship_tag": "ABX9TyOavZoYgEGWfIjS76e0ZOiO",
      "include_colab_link": true
    },
    "kernelspec": {
      "name": "python3",
      "display_name": "Python 3"
    },
    "language_info": {
      "name": "python"
    }
  },
  "cells": [
    {
      "cell_type": "markdown",
      "metadata": {
        "id": "view-in-github",
        "colab_type": "text"
      },
      "source": [
        "<a href=\"https://colab.research.google.com/github/lishura/FinalTask/blob/main/HW1_spark.ipynb\" target=\"_parent\"><img src=\"https://colab.research.google.com/assets/colab-badge.svg\" alt=\"Open In Colab\"/></a>"
      ]
    },
    {
      "cell_type": "markdown",
      "source": [
        "Найти самую длинную упорядоченную последовательность чисел в RDD и вывести ее."
      ],
      "metadata": {
        "id": "upjW36LxmQf2"
      }
    },
    {
      "cell_type": "code",
      "source": [],
      "metadata": {
        "id": "XxeLG3TKrcNU"
      },
      "execution_count": null,
      "outputs": []
    },
    {
      "cell_type": "code",
      "source": [
        "pip install pyspark"
      ],
      "metadata": {
        "colab": {
          "base_uri": "https://localhost:8080/"
        },
        "id": "2iD4gMFvmuWn",
        "outputId": "2b91692e-468d-4b7a-db3e-758e894f541d"
      },
      "execution_count": null,
      "outputs": [
        {
          "output_type": "stream",
          "name": "stdout",
          "text": [
            "Collecting pyspark\n",
            "  Downloading pyspark-3.5.1.tar.gz (317.0 MB)\n",
            "\u001b[2K     \u001b[90m━━━━━━━━━━━━━━━━━━━━━━━━━━━━━━━━━━━━━━━━\u001b[0m \u001b[32m317.0/317.0 MB\u001b[0m \u001b[31m2.9 MB/s\u001b[0m eta \u001b[36m0:00:00\u001b[0m\n",
            "\u001b[?25h  Preparing metadata (setup.py) ... \u001b[?25l\u001b[?25hdone\n",
            "Requirement already satisfied: py4j==0.10.9.7 in /usr/local/lib/python3.10/dist-packages (from pyspark) (0.10.9.7)\n",
            "Building wheels for collected packages: pyspark\n",
            "  Building wheel for pyspark (setup.py) ... \u001b[?25l\u001b[?25hdone\n",
            "  Created wheel for pyspark: filename=pyspark-3.5.1-py2.py3-none-any.whl size=317488491 sha256=bce1a2d1e0a77f76978e103ec9a2a30073a9c70f017a2cacfb487aa313f2ca0b\n",
            "  Stored in directory: /root/.cache/pip/wheels/80/1d/60/2c256ed38dddce2fdd93be545214a63e02fbd8d74fb0b7f3a6\n",
            "Successfully built pyspark\n",
            "Installing collected packages: pyspark\n",
            "Successfully installed pyspark-3.5.1\n"
          ]
        }
      ]
    },
    {
      "cell_type": "code",
      "source": [
        "import pyspark\n",
        "from pyspark import SparkContext, SparkConf\n",
        "from pyspark.sql import SparkSession"
      ],
      "metadata": {
        "id": "wcNum3vEmylc"
      },
      "execution_count": null,
      "outputs": []
    },
    {
      "cell_type": "code",
      "source": [
        "# будем искать упорядоченную по возрастанию последовательность\n",
        "data = [48, 51, -1, 2, 5, 10, 25, 30, 4, 8, -8, 5, 43]\n",
        "\n",
        "def sequence(x):\n",
        "    res=[]\n",
        "    temp=[]\n",
        "    for i in x:\n",
        "        if temp:\n",
        "            if i>temp[-1]:\n",
        "                temp.append(i)\n",
        "            else:\n",
        "                res.append(temp)\n",
        "                temp=[i]\n",
        "        else:\n",
        "            temp.append(i)\n",
        "    return res\n",
        "\n",
        "sc = SparkContext('local', 'MaxSequence')\n",
        "rdd = sc.parallelize(sequence(data))\n",
        "max_sequence = rdd.max(key=lambda x: len(x))\n",
        "print('Самая длинная возрастающая последовательность в RDD:', max_sequence)"
      ],
      "metadata": {
        "colab": {
          "base_uri": "https://localhost:8080/"
        },
        "id": "Ozbctir3na0x",
        "outputId": "9cea8231-f964-49d4-f7e2-b99ae9bef926"
      },
      "execution_count": null,
      "outputs": [
        {
          "output_type": "stream",
          "name": "stdout",
          "text": [
            "Самая длинная возрастающая последовательность в RDD: [-1, 2, 5, 10, 25, 30]\n"
          ]
        }
      ]
    },
    {
      "cell_type": "code",
      "source": [
        "sc.stop()"
      ],
      "metadata": {
        "id": "1f1WZ4rAvJ_L"
      },
      "execution_count": null,
      "outputs": []
    }
  ]
}