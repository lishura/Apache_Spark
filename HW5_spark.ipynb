{
  "nbformat": 4,
  "nbformat_minor": 0,
  "metadata": {
    "colab": {
      "provenance": [],
      "authorship_tag": "ABX9TyNPO5LSmE/bdh24ncGotlX1",
      "include_colab_link": true
    },
    "kernelspec": {
      "name": "python3",
      "display_name": "Python 3"
    },
    "language_info": {
      "name": "python"
    }
  },
  "cells": [
    {
      "cell_type": "markdown",
      "metadata": {
        "id": "view-in-github",
        "colab_type": "text"
      },
      "source": [
        "<a href=\"https://colab.research.google.com/github/lishura/Apache_Spark/blob/main/HW5_spark.ipynb\" target=\"_parent\"><img src=\"https://colab.research.google.com/assets/colab-badge.svg\" alt=\"Open In Colab\"/></a>"
      ]
    },
    {
      "cell_type": "markdown",
      "source": [
        "Условие: создайте csv файл с таким содержимым:\n",
        "\n",
        "title,author,genre,sales,year\n",
        "\n",
        "\"1984\", \"George Orwell\", \"Science Fiction\", 5000, 1949\n",
        "\n",
        "\"The Lord of the Rings\", \"J.R.R. Tolkien\", \"Fantasy\", 3000, 1954\n",
        "\n",
        "\"To Kill a Mockingbird\", \"Harper Lee\", \"Southern Gothic\", 4000, 1960\n",
        "\n",
        "\"The Catcher in the Rye\", \"J.D. Salinger\", \"Novel\", 2000, 1951\n",
        "\n",
        "\"The Great Gatsby\", \"F. Scott Fitzgerald\", \"Novel\", 4500, 1925\n",
        "\n",
        "Задание:\n",
        "\n",
        "— Используя Spark прочитайте данные из файла csv.\n",
        "— Фильтруйте данные, чтобы оставить только книги, продажи которых превышают 3000 экземпляров.\n",
        "— Сгруппируйте данные по жанру и вычислите общий объем продаж для каждого жанра.\n",
        "— Отсортируйте данные по общему объему продаж в порядке убывания.\n",
        "— Выведите результаты на экран."
      ],
      "metadata": {
        "id": "3ynnBO5QCTQ1"
      }
    },
    {
      "cell_type": "code",
      "source": [],
      "metadata": {
        "id": "d2p9ZjntCYdA"
      },
      "execution_count": null,
      "outputs": []
    },
    {
      "cell_type": "code",
      "source": [
        "pip install pyspark"
      ],
      "metadata": {
        "colab": {
          "base_uri": "https://localhost:8080/"
        },
        "id": "tcfvxnh7vhHs",
        "outputId": "835cd010-f452-45a2-9f85-8b92daf3188d"
      },
      "execution_count": null,
      "outputs": [
        {
          "output_type": "stream",
          "name": "stdout",
          "text": [
            "Collecting pyspark\n",
            "  Downloading pyspark-3.5.1.tar.gz (317.0 MB)\n",
            "\u001b[2K     \u001b[90m━━━━━━━━━━━━━━━━━━━━━━━━━━━━━━━━━━━━━━━━\u001b[0m \u001b[32m317.0/317.0 MB\u001b[0m \u001b[31m3.7 MB/s\u001b[0m eta \u001b[36m0:00:00\u001b[0m\n",
            "\u001b[?25h  Preparing metadata (setup.py) ... \u001b[?25l\u001b[?25hdone\n",
            "Requirement already satisfied: py4j==0.10.9.7 in /usr/local/lib/python3.10/dist-packages (from pyspark) (0.10.9.7)\n",
            "Building wheels for collected packages: pyspark\n",
            "  Building wheel for pyspark (setup.py) ... \u001b[?25l\u001b[?25hdone\n",
            "  Created wheel for pyspark: filename=pyspark-3.5.1-py2.py3-none-any.whl size=317488491 sha256=3c4ec1757904f97bf306d44c19e27008a2cb91dfc166d1aa4a731fdb19312bdc\n",
            "  Stored in directory: /root/.cache/pip/wheels/80/1d/60/2c256ed38dddce2fdd93be545214a63e02fbd8d74fb0b7f3a6\n",
            "Successfully built pyspark\n",
            "Installing collected packages: pyspark\n",
            "Successfully installed pyspark-3.5.1\n"
          ]
        }
      ]
    },
    {
      "cell_type": "code",
      "source": [
        "from pyspark import SparkContext, SparkConf\n",
        "from pyspark.sql import SparkSession\n",
        "from pyspark.sql.window import Window\n",
        "import pyspark.sql.functions as fn\n",
        "from pyspark.sql.types import DoubleType"
      ],
      "metadata": {
        "id": "eioLSCT3C6XC"
      },
      "execution_count": null,
      "outputs": []
    },
    {
      "cell_type": "code",
      "source": [
        "spark = SparkSession.builder.appName('Books').getOrCreate()\n",
        "# csv_file_path = r\"C:\\Users\\User\\Documents\\обучение GB\\Spark\\books.csv\"\n",
        "df = spark.read.csv('books.csv', header=True, inferSchema=True)\n",
        "print(\"Исходный файл:\")\n",
        "df.show()"
      ],
      "metadata": {
        "colab": {
          "base_uri": "https://localhost:8080/"
        },
        "id": "XmkFcPZFDIuX",
        "outputId": "ece0895d-829a-4159-f464-2773821bda96"
      },
      "execution_count": 13,
      "outputs": [
        {
          "output_type": "stream",
          "name": "stdout",
          "text": [
            "Исходный файл:\n",
            "+--------------------+--------------------+------------------+------+------+\n",
            "|               title|              author|             genre| sales|  year|\n",
            "+--------------------+--------------------+------------------+------+------+\n",
            "|                1984|     \"George Orwell\"| \"Science Fiction\"|5000.0|1949.0|\n",
            "|The Lord of the R...|    \"J.R.R. Tolkien\"|         \"Fantasy\"|3000.0|1954.0|\n",
            "|To Kill a Mocking...|        \"Harper Lee\"| \"Southern Gothic\"|4000.0|1960.0|\n",
            "|The Catcher in th...|     \"J.D. Salinger\"|           \"Novel\"|2000.0|1951.0|\n",
            "|    The Great Gatsby| \"F. Scott Fitzge...|           \"Novel\"|4500.0|1925.0|\n",
            "+--------------------+--------------------+------------------+------+------+\n",
            "\n"
          ]
        }
      ]
    },
    {
      "cell_type": "code",
      "source": [
        "filtered_df = df.filter(df.sales > 3000)\n",
        "filtered_df.show()"
      ],
      "metadata": {
        "colab": {
          "base_uri": "https://localhost:8080/"
        },
        "id": "mW8ThWPWLODW",
        "outputId": "5fea02bc-802e-495b-fbea-de78b5d95afd"
      },
      "execution_count": 14,
      "outputs": [
        {
          "output_type": "stream",
          "name": "stdout",
          "text": [
            "+--------------------+--------------------+------------------+------+------+\n",
            "|               title|              author|             genre| sales|  year|\n",
            "+--------------------+--------------------+------------------+------+------+\n",
            "|                1984|     \"George Orwell\"| \"Science Fiction\"|5000.0|1949.0|\n",
            "|To Kill a Mocking...|        \"Harper Lee\"| \"Southern Gothic\"|4000.0|1960.0|\n",
            "|    The Great Gatsby| \"F. Scott Fitzge...|           \"Novel\"|4500.0|1925.0|\n",
            "+--------------------+--------------------+------------------+------+------+\n",
            "\n"
          ]
        }
      ]
    },
    {
      "cell_type": "code",
      "source": [
        "window_spec = Window.partitionBy('genre')\n",
        "sum_sales_by_genre = fn.sum('sales').over(window_spec)\n",
        "sum_sales_by_genre_df = df.withColumn('sum_sales_by_genre', sum_sales_by_genre)\n",
        "print('Данные по общему объему продаж в порядке убывания в разрезе жанров:')\n",
        "sum_sales_by_genre_df.select(['genre', 'sum_sales_by_genre']).distinct().orderBy(sum_sales_by_genre_df.sum_sales_by_genre.desc()).show()"
      ],
      "metadata": {
        "colab": {
          "base_uri": "https://localhost:8080/"
        },
        "id": "CdYJCZcRLZHQ",
        "outputId": "bb6b3b77-cf7d-4487-da5a-5852157c9b4c"
      },
      "execution_count": 15,
      "outputs": [
        {
          "output_type": "stream",
          "name": "stdout",
          "text": [
            "Данные по общему объему продаж в порядке убывания в разрезе жанров:\n",
            "+------------------+------------------+\n",
            "|             genre|sum_sales_by_genre|\n",
            "+------------------+------------------+\n",
            "|           \"Novel\"|            6500.0|\n",
            "| \"Science Fiction\"|            5000.0|\n",
            "| \"Southern Gothic\"|            4000.0|\n",
            "|         \"Fantasy\"|            3000.0|\n",
            "+------------------+------------------+\n",
            "\n"
          ]
        }
      ]
    }
  ]
}